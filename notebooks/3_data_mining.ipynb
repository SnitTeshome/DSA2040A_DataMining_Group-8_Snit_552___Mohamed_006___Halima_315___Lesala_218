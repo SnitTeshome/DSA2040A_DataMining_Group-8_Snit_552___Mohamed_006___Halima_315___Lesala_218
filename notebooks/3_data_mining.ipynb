{
 "cells": [
  {
   "cell_type": "markdown",
   "id": "ae7592c0",
   "metadata": {},
   "source": [
    "## *Data Mining*"
   ]
  },
  {
   "cell_type": "markdown",
   "id": "c726c88d",
   "metadata": {},
   "source": [
    "#### *Data Mining is the process of discovering patterns, relationships, and useful insights from large sets of data. It’s like finding valuable information hidden in a big pile of data*"
   ]
  },
  {
   "cell_type": "code",
   "execution_count": null,
   "id": "3a7989c7",
   "metadata": {},
   "outputs": [],
   "source": [
    "df = pd.read_parquet('../data/final/olist_full_data_Loaded.parquet', engine='pyarrow')\n",
    "df"
   ]
  },
  {
   "cell_type": "markdown",
   "id": "f4717e51",
   "metadata": {},
   "source": [
    "## *1.Clustering (Unsupervised Learning)*"
   ]
  },
  {
   "cell_type": "markdown",
   "id": "f7dca70b",
   "metadata": {},
   "source": [
    "### *K-Means*"
   ]
  },
  {
   "cell_type": "markdown",
   "id": "f9326c38",
   "metadata": {},
   "source": [
    "##### *Step 1:Choose Relevant Columns for Clustering*\n",
    "*Since K-Means works only with numerical values, we need to pick columns that are:Meaningful for identifying groups of similar orders or customers*\n",
    "- *Numerical*\n",
    "\n"
   ]
  },
  {
   "cell_type": "code",
   "execution_count": null,
   "id": "c68c1112",
   "metadata": {},
   "outputs": [],
   "source": [
    "features_to_cluster = ['price','freight_value','payment_installments','payment_value', 'review_score', 'product_weight_g', 'product_volume_cm3', 'product_density','profit_margin',\n",
    "                        'freight_ratio','order_processing_time','recency_days','purchase_frequency','monetary_value']\n",
    "df_cluster = df[features_to_cluster].copy()\n"
   ]
  },
  {
   "cell_type": "markdown",
   "id": "e1cd42ab",
   "metadata": {},
   "source": [
    "#### *Step 2: Handling Missing Values*"
   ]
  },
  {
   "cell_type": "code",
   "execution_count": null,
   "id": "1c1a3392",
   "metadata": {},
   "outputs": [],
   "source": [
    "df_cluster.isnull().sum()\n",
    "# Fill missing values with the median\n",
    "df_cluster = df_cluster.fillna(df_cluster.median(numeric_only=True))"
   ]
  }
 ],
 "metadata": {
  "kernelspec": {
   "display_name": "Python 3",
   "language": "python",
   "name": "python3"
  },
  "language_info": {
   "name": "python",
   "version": "3.13.4"
  }
 },
 "nbformat": 4,
 "nbformat_minor": 5
}
